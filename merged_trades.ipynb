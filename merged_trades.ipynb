{
 "cells": [
  {
   "cell_type": "code",
   "execution_count": 1,
   "id": "06ed3cb0",
   "metadata": {},
   "outputs": [],
   "source": [
    "import pandas as pd\n",
    "import numpy as np\n",
    "import matplotlib.pyplot as plt\n",
    "from scipy import stats\n",
    "from IPython.display import display\n",
    "import ipywidgets as w\n",
    "from IPython.display import Javascript"
   ]
  },
  {
   "cell_type": "markdown",
   "id": "90f33ef9",
   "metadata": {},
   "source": [
    "<h1 align=\"center\">Analysis of ES trades</h1>\n",
    "<p>* Please ignore all the code and read all the text / code output and graphs</p>\n",
    "<p>* <b>Before you do anything click Cell > Run All to start the notebook and scroll back up</b></p>\n",
    "<p>* This notebook contains analysis on profits, percentages, time (weekly, daily... trades)</p>\n",
    "<p>* We have 4 main categories, <b>Scalp, Swing, Long, Short</b>. They are all turned on by default, and they influence what data the analysis is done on.</p>\n",
    "<p>* If you select e.g. Scalp + Long + Short, all Long trades will not be taken into consideration while performing calculations.</p>\n",
    "<p>* After you make any change to the category, all cells will automatically be recalculated, which can take a few seconds.</p>\n",
    "<p>* Generally, most analysis is based on trade exit date except 4th section - Statistics based on time, where it's based on entry date of the trade</p>"
   ]
  },
  {
   "cell_type": "code",
   "execution_count": 1,
   "id": "8c907e73",
   "metadata": {
    "scrolled": true
   },
   "outputs": [
    {
     "data": {
      "application/javascript": [
       "IPython.notebook.execute_cell_range(IPython.notebook.get_selected_index()+1, IPython.notebook.ncells())"
      ],
      "text/plain": [
       "<IPython.core.display.Javascript object>"
      ]
     },
     "metadata": {},
     "output_type": "display_data"
    },
    {
     "data": {
      "application/javascript": [
       "IPython.notebook.execute_cell_range(IPython.notebook.get_selected_index()+1, IPython.notebook.ncells())"
      ],
      "text/plain": [
       "<IPython.core.display.Javascript object>"
      ]
     },
     "metadata": {},
     "output_type": "display_data"
    },
    {
     "data": {
      "application/javascript": [
       "IPython.notebook.execute_cell_range(IPython.notebook.get_selected_index()+1, IPython.notebook.ncells())"
      ],
      "text/plain": [
       "<IPython.core.display.Javascript object>"
      ]
     },
     "metadata": {},
     "output_type": "display_data"
    },
    {
     "data": {
      "application/javascript": [
       "IPython.notebook.execute_cell_range(IPython.notebook.get_selected_index()+1, IPython.notebook.ncells())"
      ],
      "text/plain": [
       "<IPython.core.display.Javascript object>"
      ]
     },
     "metadata": {},
     "output_type": "display_data"
    },
    {
     "data": {
      "application/javascript": [
       "IPython.notebook.execute_cell_range(IPython.notebook.get_selected_index()+1, IPython.notebook.ncells())"
      ],
      "text/plain": [
       "<IPython.core.display.Javascript object>"
      ]
     },
     "metadata": {},
     "output_type": "display_data"
    },
    {
     "data": {
      "application/javascript": [
       "IPython.notebook.execute_cell_range(IPython.notebook.get_selected_index()+1, IPython.notebook.ncells())"
      ],
      "text/plain": [
       "<IPython.core.display.Javascript object>"
      ]
     },
     "metadata": {},
     "output_type": "display_data"
    },
    {
     "data": {
      "application/javascript": [
       "IPython.notebook.execute_cell_range(IPython.notebook.get_selected_index()+1, IPython.notebook.ncells())"
      ],
      "text/plain": [
       "<IPython.core.display.Javascript object>"
      ]
     },
     "metadata": {},
     "output_type": "display_data"
    },
    {
     "data": {
      "application/javascript": [
       "IPython.notebook.execute_cell_range(IPython.notebook.get_selected_index()+1, IPython.notebook.ncells())"
      ],
      "text/plain": [
       "<IPython.core.display.Javascript object>"
      ]
     },
     "metadata": {},
     "output_type": "display_data"
    },
    {
     "data": {
      "application/javascript": [
       "IPython.notebook.execute_cell_range(IPython.notebook.get_selected_index()+1, IPython.notebook.ncells())"
      ],
      "text/plain": [
       "<IPython.core.display.Javascript object>"
      ]
     },
     "metadata": {},
     "output_type": "display_data"
    },
    {
     "data": {
      "application/javascript": [
       "IPython.notebook.execute_cell_range(IPython.notebook.get_selected_index()+1, IPython.notebook.ncells())"
      ],
      "text/plain": [
       "<IPython.core.display.Javascript object>"
      ]
     },
     "metadata": {},
     "output_type": "display_data"
    },
    {
     "data": {
      "application/javascript": [
       "IPython.notebook.execute_cell_range(IPython.notebook.get_selected_index()+1, IPython.notebook.ncells())"
      ],
      "text/plain": [
       "<IPython.core.display.Javascript object>"
      ]
     },
     "metadata": {},
     "output_type": "display_data"
    },
    {
     "data": {
      "application/javascript": [
       "IPython.notebook.execute_cell_range(IPython.notebook.get_selected_index()+1, IPython.notebook.ncells())"
      ],
      "text/plain": [
       "<IPython.core.display.Javascript object>"
      ]
     },
     "metadata": {},
     "output_type": "display_data"
    },
    {
     "data": {
      "application/javascript": [
       "IPython.notebook.execute_cell_range(IPython.notebook.get_selected_index()+1, IPython.notebook.ncells())"
      ],
      "text/plain": [
       "<IPython.core.display.Javascript object>"
      ]
     },
     "metadata": {},
     "output_type": "display_data"
    },
    {
     "data": {
      "application/javascript": [
       "IPython.notebook.execute_cell_range(IPython.notebook.get_selected_index()+1, IPython.notebook.ncells())"
      ],
      "text/plain": [
       "<IPython.core.display.Javascript object>"
      ]
     },
     "metadata": {},
     "output_type": "display_data"
    },
    {
     "data": {
      "application/javascript": [
       "IPython.notebook.execute_cell_range(IPython.notebook.get_selected_index()+1, IPython.notebook.ncells())"
      ],
      "text/plain": [
       "<IPython.core.display.Javascript object>"
      ]
     },
     "metadata": {},
     "output_type": "display_data"
    },
    {
     "data": {
      "application/javascript": [
       "IPython.notebook.execute_cell_range(IPython.notebook.get_selected_index()+1, IPython.notebook.ncells())"
      ],
      "text/plain": [
       "<IPython.core.display.Javascript object>"
      ]
     },
     "metadata": {},
     "output_type": "display_data"
    },
    {
     "data": {
      "application/javascript": [
       "IPython.notebook.execute_cell_range(IPython.notebook.get_selected_index()+1, IPython.notebook.ncells())"
      ],
      "text/plain": [
       "<IPython.core.display.Javascript object>"
      ]
     },
     "metadata": {},
     "output_type": "display_data"
    },
    {
     "data": {
      "application/javascript": [
       "IPython.notebook.execute_cell_range(IPython.notebook.get_selected_index()+1, IPython.notebook.ncells())"
      ],
      "text/plain": [
       "<IPython.core.display.Javascript object>"
      ]
     },
     "metadata": {},
     "output_type": "display_data"
    },
    {
     "data": {
      "application/javascript": [
       "IPython.notebook.execute_cell_range(IPython.notebook.get_selected_index()+1, IPython.notebook.ncells())"
      ],
      "text/plain": [
       "<IPython.core.display.Javascript object>"
      ]
     },
     "metadata": {},
     "output_type": "display_data"
    },
    {
     "data": {
      "application/javascript": [
       "IPython.notebook.execute_cell_range(IPython.notebook.get_selected_index()+1, IPython.notebook.ncells())"
      ],
      "text/plain": [
       "<IPython.core.display.Javascript object>"
      ]
     },
     "metadata": {},
     "output_type": "display_data"
    },
    {
     "data": {
      "application/javascript": [
       "IPython.notebook.execute_cell_range(IPython.notebook.get_selected_index()+1, IPython.notebook.ncells())"
      ],
      "text/plain": [
       "<IPython.core.display.Javascript object>"
      ]
     },
     "metadata": {},
     "output_type": "display_data"
    },
    {
     "data": {
      "application/javascript": [
       "IPython.notebook.execute_cell_range(IPython.notebook.get_selected_index()+1, IPython.notebook.ncells())"
      ],
      "text/plain": [
       "<IPython.core.display.Javascript object>"
      ]
     },
     "metadata": {},
     "output_type": "display_data"
    },
    {
     "data": {
      "application/javascript": [
       "IPython.notebook.execute_cell_range(IPython.notebook.get_selected_index()+1, IPython.notebook.ncells())"
      ],
      "text/plain": [
       "<IPython.core.display.Javascript object>"
      ]
     },
     "metadata": {},
     "output_type": "display_data"
    },
    {
     "data": {
      "application/javascript": [
       "IPython.notebook.execute_cell_range(IPython.notebook.get_selected_index()+1, IPython.notebook.ncells())"
      ],
      "text/plain": [
       "<IPython.core.display.Javascript object>"
      ]
     },
     "metadata": {},
     "output_type": "display_data"
    },
    {
     "data": {
      "application/javascript": [
       "IPython.notebook.execute_cell_range(IPython.notebook.get_selected_index()+1, IPython.notebook.ncells())"
      ],
      "text/plain": [
       "<IPython.core.display.Javascript object>"
      ]
     },
     "metadata": {},
     "output_type": "display_data"
    },
    {
     "data": {
      "application/javascript": [
       "IPython.notebook.execute_cell_range(IPython.notebook.get_selected_index()+1, IPython.notebook.ncells())"
      ],
      "text/plain": [
       "<IPython.core.display.Javascript object>"
      ]
     },
     "metadata": {},
     "output_type": "display_data"
    },
    {
     "data": {
      "application/javascript": [
       "IPython.notebook.execute_cell_range(IPython.notebook.get_selected_index()+1, IPython.notebook.ncells())"
      ],
      "text/plain": [
       "<IPython.core.display.Javascript object>"
      ]
     },
     "metadata": {},
     "output_type": "display_data"
    },
    {
     "data": {
      "application/javascript": [
       "IPython.notebook.execute_cell_range(IPython.notebook.get_selected_index()+1, IPython.notebook.ncells())"
      ],
      "text/plain": [
       "<IPython.core.display.Javascript object>"
      ]
     },
     "metadata": {},
     "output_type": "display_data"
    },
    {
     "data": {
      "application/javascript": [
       "IPython.notebook.execute_cell_range(IPython.notebook.get_selected_index()+1, IPython.notebook.ncells())"
      ],
      "text/plain": [
       "<IPython.core.display.Javascript object>"
      ]
     },
     "metadata": {},
     "output_type": "display_data"
    },
    {
     "data": {
      "application/javascript": [
       "IPython.notebook.execute_cell_range(IPython.notebook.get_selected_index()+1, IPython.notebook.ncells())"
      ],
      "text/plain": [
       "<IPython.core.display.Javascript object>"
      ]
     },
     "metadata": {},
     "output_type": "display_data"
    },
    {
     "data": {
      "application/javascript": [
       "IPython.notebook.execute_cell_range(IPython.notebook.get_selected_index()+1, IPython.notebook.ncells())"
      ],
      "text/plain": [
       "<IPython.core.display.Javascript object>"
      ]
     },
     "metadata": {},
     "output_type": "display_data"
    },
    {
     "data": {
      "application/javascript": [
       "IPython.notebook.execute_cell_range(IPython.notebook.get_selected_index()+1, IPython.notebook.ncells())"
      ],
      "text/plain": [
       "<IPython.core.display.Javascript object>"
      ]
     },
     "metadata": {},
     "output_type": "display_data"
    },
    {
     "data": {
      "application/javascript": [
       "IPython.notebook.execute_cell_range(IPython.notebook.get_selected_index()+1, IPython.notebook.ncells())"
      ],
      "text/plain": [
       "<IPython.core.display.Javascript object>"
      ]
     },
     "metadata": {},
     "output_type": "display_data"
    },
    {
     "data": {
      "application/javascript": [
       "IPython.notebook.execute_cell_range(IPython.notebook.get_selected_index()+1, IPython.notebook.ncells())"
      ],
      "text/plain": [
       "<IPython.core.display.Javascript object>"
      ]
     },
     "metadata": {},
     "output_type": "display_data"
    },
    {
     "data": {
      "application/javascript": [
       "IPython.notebook.execute_cell_range(IPython.notebook.get_selected_index()+1, IPython.notebook.ncells())"
      ],
      "text/plain": [
       "<IPython.core.display.Javascript object>"
      ]
     },
     "metadata": {},
     "output_type": "display_data"
    },
    {
     "data": {
      "application/javascript": [
       "IPython.notebook.execute_cell_range(IPython.notebook.get_selected_index()+1, IPython.notebook.ncells())"
      ],
      "text/plain": [
       "<IPython.core.display.Javascript object>"
      ]
     },
     "metadata": {},
     "output_type": "display_data"
    },
    {
     "data": {
      "application/javascript": [
       "IPython.notebook.execute_cell_range(IPython.notebook.get_selected_index()+1, IPython.notebook.ncells())"
      ],
      "text/plain": [
       "<IPython.core.display.Javascript object>"
      ]
     },
     "metadata": {},
     "output_type": "display_data"
    },
    {
     "data": {
      "application/javascript": [
       "IPython.notebook.execute_cell_range(IPython.notebook.get_selected_index()+1, IPython.notebook.ncells())"
      ],
      "text/plain": [
       "<IPython.core.display.Javascript object>"
      ]
     },
     "metadata": {},
     "output_type": "display_data"
    },
    {
     "data": {
      "application/javascript": [
       "IPython.notebook.execute_cell_range(IPython.notebook.get_selected_index()+1, IPython.notebook.ncells())"
      ],
      "text/plain": [
       "<IPython.core.display.Javascript object>"
      ]
     },
     "metadata": {},
     "output_type": "display_data"
    },
    {
     "name": "stdout",
     "output_type": "stream",
     "text": [
      "   CATEGORIES TO SELECT FROM:\n"
     ]
    },
    {
     "data": {
      "application/vnd.jupyter.widget-view+json": {
       "model_id": "c1dc2c21fca24e63a73d5f5d414f5751",
       "version_major": 2,
       "version_minor": 0
      },
      "text/plain": [
       "Checkbox(value=True, description='Scalp')"
      ]
     },
     "metadata": {},
     "output_type": "display_data"
    },
    {
     "data": {
      "application/vnd.jupyter.widget-view+json": {
       "model_id": "f6c87637153a46c8b74362c444567ffd",
       "version_major": 2,
       "version_minor": 0
      },
      "text/plain": [
       "Checkbox(value=True, description='Swing')"
      ]
     },
     "metadata": {},
     "output_type": "display_data"
    },
    {
     "data": {
      "application/vnd.jupyter.widget-view+json": {
       "model_id": "cd4ee05afeef44dba6ee3aa502637bbf",
       "version_major": 2,
       "version_minor": 0
      },
      "text/plain": [
       "Checkbox(value=True, description='Long')"
      ]
     },
     "metadata": {},
     "output_type": "display_data"
    },
    {
     "data": {
      "application/vnd.jupyter.widget-view+json": {
       "model_id": "53b2b22a77b5430eabdebcec4a8ba3ad",
       "version_major": 2,
       "version_minor": 0
      },
      "text/plain": [
       "Checkbox(value=True, description='Short')"
      ]
     },
     "metadata": {},
     "output_type": "display_data"
    },
    {
     "ename": "NameError",
     "evalue": "name 'w' is not defined",
     "output_type": "error",
     "traceback": [
      "\u001b[1;31m---------------------------------------------------------------------------\u001b[0m",
      "\u001b[1;31mNameError\u001b[0m                                 Traceback (most recent call last)",
      "\u001b[1;32m~\\AppData\\Local\\Temp/ipykernel_20140/4226821894.py\u001b[0m in \u001b[0;36m<module>\u001b[1;34m\u001b[0m\n\u001b[1;32m----> 1\u001b[1;33m \u001b[0mis_scalp\u001b[0m \u001b[1;33m=\u001b[0m \u001b[0mw\u001b[0m\u001b[1;33m.\u001b[0m\u001b[0mCheckbox\u001b[0m\u001b[1;33m(\u001b[0m\u001b[0mvalue\u001b[0m\u001b[1;33m=\u001b[0m\u001b[1;32mTrue\u001b[0m\u001b[1;33m,\u001b[0m \u001b[0mdescription\u001b[0m\u001b[1;33m=\u001b[0m\u001b[1;34m'Scalp'\u001b[0m\u001b[1;33m,\u001b[0m \u001b[0mindent\u001b[0m\u001b[1;33m=\u001b[0m\u001b[1;32mTrue\u001b[0m\u001b[1;33m)\u001b[0m\u001b[1;33m\u001b[0m\u001b[1;33m\u001b[0m\u001b[0m\n\u001b[0m\u001b[0;32m      2\u001b[0m \u001b[0mis_swing\u001b[0m \u001b[1;33m=\u001b[0m \u001b[0mw\u001b[0m\u001b[1;33m.\u001b[0m\u001b[0mCheckbox\u001b[0m\u001b[1;33m(\u001b[0m\u001b[0mvalue\u001b[0m\u001b[1;33m=\u001b[0m\u001b[1;32mTrue\u001b[0m\u001b[1;33m,\u001b[0m \u001b[0mdescription\u001b[0m\u001b[1;33m=\u001b[0m\u001b[1;34m'Swing'\u001b[0m\u001b[1;33m,\u001b[0m \u001b[0mindent\u001b[0m\u001b[1;33m=\u001b[0m\u001b[1;32mTrue\u001b[0m\u001b[1;33m)\u001b[0m\u001b[1;33m\u001b[0m\u001b[1;33m\u001b[0m\u001b[0m\n\u001b[0;32m      3\u001b[0m \u001b[0mis_long\u001b[0m \u001b[1;33m=\u001b[0m \u001b[0mw\u001b[0m\u001b[1;33m.\u001b[0m\u001b[0mCheckbox\u001b[0m\u001b[1;33m(\u001b[0m\u001b[0mvalue\u001b[0m\u001b[1;33m=\u001b[0m\u001b[1;32mTrue\u001b[0m\u001b[1;33m,\u001b[0m \u001b[0mdescription\u001b[0m\u001b[1;33m=\u001b[0m\u001b[1;34m'Long'\u001b[0m\u001b[1;33m,\u001b[0m \u001b[0mindent\u001b[0m\u001b[1;33m=\u001b[0m\u001b[1;32mTrue\u001b[0m\u001b[1;33m)\u001b[0m\u001b[1;33m\u001b[0m\u001b[1;33m\u001b[0m\u001b[0m\n\u001b[0;32m      4\u001b[0m \u001b[0mis_short\u001b[0m \u001b[1;33m=\u001b[0m \u001b[0mw\u001b[0m\u001b[1;33m.\u001b[0m\u001b[0mCheckbox\u001b[0m\u001b[1;33m(\u001b[0m\u001b[0mvalue\u001b[0m\u001b[1;33m=\u001b[0m\u001b[1;32mTrue\u001b[0m\u001b[1;33m,\u001b[0m \u001b[0mdescription\u001b[0m\u001b[1;33m=\u001b[0m\u001b[1;34m'Short'\u001b[0m\u001b[1;33m,\u001b[0m \u001b[0mindent\u001b[0m\u001b[1;33m=\u001b[0m\u001b[1;32mTrue\u001b[0m\u001b[1;33m)\u001b[0m\u001b[1;33m\u001b[0m\u001b[1;33m\u001b[0m\u001b[0m\n\u001b[0;32m      5\u001b[0m \u001b[1;33m\u001b[0m\u001b[0m\n",
      "\u001b[1;31mNameError\u001b[0m: name 'w' is not defined"
     ]
    }
   ],
   "source": [
    "is_scalp = w.Checkbox(value=True, description='Scalp', indent=True)\n",
    "is_swing = w.Checkbox(value=True, description='Swing', indent=True)\n",
    "is_long = w.Checkbox(value=True, description='Long', indent=True)\n",
    "is_short = w.Checkbox(value=True, description='Short', indent=True)\n",
    "\n",
    "def run_all(ev):\n",
    "    display(Javascript('IPython.notebook.execute_cell_range(IPython.notebook.get_selected_index()+1, IPython.notebook.ncells())'))\n",
    "\n",
    "is_scalp.observe(run_all)\n",
    "is_swing.observe(run_all)\n",
    "is_long.observe(run_all)\n",
    "is_short.observe(run_all)\n",
    "print('   CATEGORIES TO SELECT FROM:')\n",
    "display(is_scalp)\n",
    "display(is_swing)\n",
    "display(is_long)\n",
    "display(is_short)"
   ]
  },
  {
   "cell_type": "markdown",
   "id": "6133e1ae",
   "metadata": {},
   "source": [
    "<h1 align=\"center\">Table of content:</h1>\n",
    "<h2>0. Data configuration - can be generally ignored</h2>\n",
    "<h2>1. Visualizations of profits</h2>\n",
    "<p>* This section consists of displaying/plotting cumulative performances</p>\n",
    "1.1 Plot of performance of your selected categories<br />\n",
    "1.2 Plot of Scalp vs Swing strategies/profits<br />\n",
    "1.3 Plot of Long vs Short strategies/profits<br />\n",
    "<h2>2. Statistics based on overall trades</h2>\n",
    "<p>* Numerical statistics of trades like point gains, averages, %...</p>\n",
    "2.1 win/loss % - percentage of profitable trades, breakeven trades, losing trades (from selected categories)<br />\n",
    "2.2 avg point gain of trades - mean, std of trades<br />\n",
    "2.3 avg win/loss of points when winning/losing trade - when trade is profitable, how many points do we gain on avg...<br />\n",
    "<h2>3. Extremes</h2>\n",
    "<p>* What are the best, worst trades? When did they happen? What can we learn from them?</p>\n",
    "3.1 Scatter plot for all trades (point gains) - great for identifying best/worst trades and general understanding<br />\n",
    "3.2 Table of 10 best trades (biggest gain)<br />\n",
    "3.3 Table of 10 worst trades (biggest loss)<br />\n",
    "<h2>4. Statistics based on time</h2>\n",
    "<p>* Analysis of yearly, monthly, every Mondays... Contains 3 tables on each category. Overall gain of points, average gain of points per trade and % of winning trades per certain time period<br />\n",
    "* Answers questions like: If I enter a trade at 10am, am I more profitable in general than at 3pm?</p>\n",
    "4.1 Yearly - 2022, 2021, 2020...<br />\n",
    "4.2 Monthly - Jan, Feb, Mar...<br />\n",
    "4.3 Weekly - Mon, Tue, Wed...<br />\n",
    "4.4 Daily - 1., 5., 22. ...<br />\n",
    "4.5 Hourly - 9am, 10am, 3pm...<br />"
   ]
  },
  {
   "cell_type": "markdown",
   "id": "69f00db4",
   "metadata": {},
   "source": [
    "<h2>0. Setup of the table for statistical analysis of scalps</h2>\n",
    "\n",
    "drop useless columns<br />\n",
    "filter wrong symbols (GOLD [1 instance] & RTY [2 instances])<br />\n",
    "sort by date<br />\n",
    "calculate profit on each trade<br />"
   ]
  },
  {
   "cell_type": "code",
   "execution_count": null,
   "id": "97261ee9",
   "metadata": {},
   "outputs": [],
   "source": [
    "scalp = is_scalp.value\n",
    "swing = is_swing.value\n",
    "long = is_long.value\n",
    "short = is_short.value\n",
    "\n",
    "\n",
    "df = pd.read_csv('merged_trades.csv')\n",
    "df = df.drop('Unnamed: 0', axis=1)\n",
    "df['time_entry'] = pd.to_datetime(df['time_entry'])\n",
    "df['time_exit'] = pd.to_datetime(df['time_exit'])\n",
    "df = df[~df['symbol_exit'].isin(['RTY', 'GOLD'])].reset_index(drop=True)  # remove non ES trades\n",
    "df = df.sort_values(by='time_exit').reset_index(drop=True)\n",
    "df = df.set_index('time_exit')\n",
    "def calc_profit(entry_price, exit_price, _type):\n",
    "    if _type == 'short':\n",
    "        return entry_price - exit_price\n",
    "    elif _type == 'long':\n",
    "        return exit_price - entry_price\n",
    "    \n",
    "    else:\n",
    "        exit()\n",
    "    \n",
    "\n",
    "df['profit'] = np.vectorize(calc_profit)(df['entry_price'], df['exit_price'], df['type'])\n",
    "\n",
    "df_scalp = df[df['timeframe'] == 'scalp']\n",
    "df_swing = df[df['timeframe'] == 'swing']\n",
    "df_short = df[df['type'] == 'short']\n",
    "df_long = df[df['type'] == 'long']\n",
    "\n",
    "if not swing:\n",
    "    df = df[df['timeframe'] == 'scalp']\n",
    "if not scalp:\n",
    "    df = df[df['timeframe'] == 'swing'] \n",
    "if not short:\n",
    "    df = df[df['type'] == 'long']\n",
    "if not long:\n",
    "    df = df[df['type'] == 'short']\n",
    "df['profit_cumsum'] = df['profit'].cumsum()\n",
    "df['is_profit'] = df['profit'].apply(lambda x: 1 if x > 0 else 0)\n",
    "df = df.sort_values(by='time_exit')"
   ]
  },
  {
   "cell_type": "markdown",
   "id": "01f2ff66",
   "metadata": {},
   "source": [
    "<h1>Visualizations of cumulative profits:</h1>\n",
    "<p>* Displaying/plotting cumulative performances</p>"
   ]
  },
  {
   "cell_type": "markdown",
   "id": "a6f1b641",
   "metadata": {},
   "source": [
    "<b>1.1</b> Plot of performance of your selected categories"
   ]
  },
  {
   "cell_type": "code",
   "execution_count": null,
   "id": "f2586f92",
   "metadata": {},
   "outputs": [],
   "source": [
    "# plotting of YOUR data\n",
    "fig, ax = plt.subplots(figsize=(10, 7), dpi=150)\n",
    "df['profit_cumsum'].plot(ax=ax, label=f'N of trades: {len(df)} Points: +{round(df[\"profit\"].sum(), 1)}')\n",
    "plt.xlabel('Trade exit date')\n",
    "plt.ylabel('ES Points profit')\n",
    "plt.title(\"Overall performance of your selected data:\")\n",
    "plt.legend();"
   ]
  },
  {
   "cell_type": "markdown",
   "id": "298b0d17",
   "metadata": {},
   "source": [
    "<p><b>1.2 Plot of Scalp vs Swing strategies/profits</b></br>\n",
    "<b>1.3 Plot of Long vs Short strategies/profits</b></br></p>\n",
    "<p><b>! These graphs stay the same no matter what category you choose</b></p>"
   ]
  },
  {
   "cell_type": "code",
   "execution_count": null,
   "id": "5168e299",
   "metadata": {},
   "outputs": [],
   "source": [
    "# plotting of scalp + swing overall\n",
    "fig, ax = plt.subplots(nrows=2, figsize=(10, 16), dpi=200)\n",
    "df_scalp['profit'].cumsum().plot(ax=ax[0], label=f'Scalp (N of trades: {len(df_scalp)} Points: +{round(df_scalp[\"profit\"].sum(), 1)})')\n",
    "df_swing['profit'].cumsum().plot(ax=ax[0], label=f'Swing (N of trades: {len(df_swing)} Points: +{round(df_swing[\"profit\"].sum(), 1)})')\n",
    "df_long['profit'].cumsum().plot(ax=ax[1], c='green', label=f'Long (N of trades: {len(df_long)} Points: +{round(df_long[\"profit\"].sum(), 1)})')\n",
    "df_short['profit'].cumsum().plot(ax=ax[1], c='red', label=f'Short (N of trades: {len(df_short)} Points: +{round(df_short[\"profit\"].sum(), 1)})')\n",
    "#plt.xlabel('Trade exit date')\n",
    "ax[0].set_xlabel('Trade exit date'); ax[1].set_xlabel('Trade exit date')\n",
    "ax[0].set_ylabel('ES Points profit'); ax[1].set_ylabel('ES Points profit')\n",
    "#plt.ylabel('ES Points profit')\n",
    "ax[0].set_title('Swing vs Scalp performance')\n",
    "ax[1].set_title('Long vs Short performance')\n",
    "ax[0].legend();ax[1].legend();"
   ]
  },
  {
   "cell_type": "markdown",
   "id": "c2e67da6",
   "metadata": {},
   "source": [
    "<h2>Statistics based on overall trades</h2>\n",
    "<p>* Numerical statistics of trades like point gains, averages, %... (use categories above for more detailed inspection)</p>\n",
    "<p><b>2.1 win/loss %</b> - percentage of trades that are profitable (point gain), breakeven trades, losing trades (from selected categories)</p>"
   ]
  },
  {
   "cell_type": "code",
   "execution_count": null,
   "id": "fd972852",
   "metadata": {},
   "outputs": [],
   "source": [
    "def calc_perc(a, b):\n",
    "    return round(a / b * 100, 2)\n",
    "\n",
    "def line():\n",
    "    print('-'*50)\n",
    "\n",
    "N = len(df)\n",
    "win_perc = calc_perc(df[df['profit'] > 0]['profit'].count(), N)\n",
    "be_perc = calc_perc(df[df['profit'] == 0]['profit'].count(), N)\n",
    "loss_perc = calc_perc(df[df['profit'] < 0]['profit'].count(), N)\n",
    "\n",
    "line()\n",
    "print('1: Win/loss rates')\n",
    "print(f'Percentage of trades profitable: {win_perc}% ({len(df[df[\"profit\"] > 0])}/{N})')\n",
    "print(f'Percentage of trades breakeven:  {be_perc}% ({len(df[df[\"profit\"] == 0])}/{N})')\n",
    "print(f'Percentage of trades losing:     {loss_perc}% ({len(df[df[\"profit\"] < 0])}/{N})')\n",
    "line()"
   ]
  },
  {
   "cell_type": "markdown",
   "id": "ac3578a0",
   "metadata": {},
   "source": [
    "<p><b>2.2 Avg point gain of trades</b></p>\n",
    "<p>mean - what average of point gain of all trades is:</br>\n",
    "median - value in the middle, most common value</br>\n",
    "standard deviation - shows whether most of the trades are spread out or close to 0 (68% of trades range)</p>"
   ]
  },
  {
   "cell_type": "code",
   "execution_count": null,
   "id": "5f8d7185",
   "metadata": {},
   "outputs": [],
   "source": [
    "avg_gain_mean = round(df['profit'].mean(), 2)\n",
    "avg_gain_median = round(df['profit'].median(), 2)\n",
    "avg_gain_std = round(df['profit'].std(), 2)\n",
    "\n",
    "line()\n",
    "print(f'\\n2: Avg point gains per trade:')\n",
    "print(f'mean:                            {avg_gain_mean} p')\n",
    "print(f'median:                          {avg_gain_median} p')\n",
    "print(f'standard deviation:              {avg_gain_std} p')\n",
    "print(f'68% of trades are in range       {avg_gain_mean} ± {avg_gain_std} p')\n",
    "line()"
   ]
  },
  {
   "cell_type": "markdown",
   "id": "e9e24e2c",
   "metadata": {},
   "source": [
    "<p><b>2.3 avg win/loss of points when winning/losing trade </b></p>\n",
    "<p>when trade is profitable, how many points do we gain on avg...</p>"
   ]
  },
  {
   "cell_type": "code",
   "execution_count": null,
   "id": "41cc165f",
   "metadata": {},
   "outputs": [],
   "source": [
    "win_points_avg = round(df[df['profit'] > 0]['profit'].mean(), 2)\n",
    "loss_points_avg = round(df[df['profit'] < 0]['profit'].mean(), 2)\n",
    "\n",
    "line()\n",
    "print(f'\\n3: Avg point gains/losses when winning/losing trade:')\n",
    "print(f'winning trade:                   {win_points_avg} p')\n",
    "print(f'losing trade:                    {loss_points_avg} p')\n",
    "line()"
   ]
  },
  {
   "cell_type": "markdown",
   "id": "1c10c0c4",
   "metadata": {},
   "source": [
    "<h2>3. Extremes</h2>\n",
    "<p>* What are the best/worst trades? When did they happen? What can we learn from them?</p>\n",
    "<p><b>3.1 Scatter plot for all trades (point gains)</b> - Plots a dot on each trade that happened and how much points it gained. Also linear regression is present (red line), which shows slightly increased preformance over time (profits averaged over time)</p>"
   ]
  },
  {
   "cell_type": "code",
   "execution_count": null,
   "id": "c18c566d",
   "metadata": {},
   "outputs": [],
   "source": [
    "fig, ax = plt.subplots(figsize=(14, 8), dpi=150)\n",
    "df['ordinal_time'] = df.index.map(lambda x: x.toordinal())\n",
    "slope, intercept, r, p, std_err = stats.linregress(df['ordinal_time'], df['profit'])\n",
    "\n",
    "def myfunc(x):\n",
    "    return slope * x + intercept\n",
    "\n",
    "df['linear_regression'] = df['ordinal_time'].apply(lambda x: slope * x + intercept)\n",
    "df.plot.scatter(x='time_entry', y='profit', c='profit', \n",
    "                colormap='viridis', ax=ax, s=30)\n",
    "df['linear_regression'].plot(ax=ax, color='red', lw=2.5)\n",
    "\n",
    "plt.xlabel('Exit position date', fontsize=14)\n",
    "plt.ylabel('Profit (ES points)', fontsize=14)\n",
    "plt.title(\"Trade profits over time\", fontsize=18);"
   ]
  },
  {
   "cell_type": "markdown",
   "id": "145b78ea",
   "metadata": {},
   "source": [
    "<p><b>3.2 Table of 10 best trades (biggest gain)</b></p>"
   ]
  },
  {
   "cell_type": "code",
   "execution_count": null,
   "id": "37778449",
   "metadata": {},
   "outputs": [],
   "source": [
    "best_trades = df.sort_values(by='profit', ascending=False)[:10].reset_index()\n",
    "best_trades[['time_entry', 'time_exit', 'type', 'timeframe', 'entry_price', 'exit_price', 'profit']]"
   ]
  },
  {
   "cell_type": "markdown",
   "id": "359a73a2",
   "metadata": {},
   "source": [
    "<p><b>3.3 Table of 10 worst trades (biggest loss)</b></p>"
   ]
  },
  {
   "cell_type": "code",
   "execution_count": null,
   "id": "74c29f8b",
   "metadata": {},
   "outputs": [],
   "source": [
    "worst_trades = df.sort_values(by='profit')[:10].reset_index()\n",
    "worst_trades[['time_entry', 'time_exit', 'type', 'timeframe', 'entry_price', 'exit_price', 'profit']]"
   ]
  },
  {
   "cell_type": "markdown",
   "id": "4bdf2a78",
   "metadata": {},
   "source": [
    "<h2>4. Statistics based on time</h2>\n",
    "<p>* Analysis of yearly, monthly, Mondays... </p>\n",
    "<p>* Contains 3 tables on each category. Overall gain of points, average gain of points per trade and % of winning trades per certain time period</p>\n",
    "<p>* Use category selection on the first page for more detailed analysis</p>\n",
    "<p>* All stats are based on trade entry dates</p>\n",
    "<p>* %profitable - how many % of trades resulted in point gain that was bigger than 0</p>"
   ]
  },
  {
   "cell_type": "code",
   "execution_count": null,
   "id": "fd7e5dcb",
   "metadata": {},
   "outputs": [],
   "source": [
    "def table_plot(dt, col_name, index_name, bbox_i=None, drop=None, is_map=None):\n",
    "    if col_name == '% profitable':\n",
    "        dt['% profitable'] = calc_perc(dt['sum'], dt['count'])\n",
    "        dt = dt.drop('sum', axis=1)\n",
    "        dt.columns = ['num of entries', '% profitable']\n",
    "        dt = dt[['% profitable', 'num of entries']]\n",
    "    else:\n",
    "        dt.columns = [col_name, 'num of entries']\n",
    "        \n",
    "    if is_map:\n",
    "        dt.index = dt.index.map(is_map)\n",
    "    dt.index.name = index_name\n",
    "    dt[col_name] = dt[col_name].round(2)\n",
    "    dt['num of entries'] = dt['num of entries'].astype(int)\n",
    "    y_size = 6\n",
    "    if len(dt) > 12:\n",
    "        y_size += len(dt)*0.15\n",
    "    fig, axs = plt.subplots(ncols=2, figsize=(16,y_size))\n",
    "    to_plot = dt[col_name]\n",
    "    if drop:\n",
    "        to_plot = dt.drop(drop, axis=0, errors='ignore')[col_name]\n",
    "    col_name = '% profitable (N[profit > 0] / N)' if col_name == '% profitable' else col_name\n",
    "    to_plot.plot(ax=axs[0], marker='s', label=col_name)\n",
    "    axs[0].legend();\n",
    "\n",
    "    axs[1].axis('off')\n",
    "    bbox = [0, 0, 1, 1]\n",
    "    if bbox_i: bbox = bbox_i\n",
    "    mpl_table = axs[1].table(cellText = dt.values, rowLabels = dt.index, bbox=bbox, colLabels=dt.columns)\n",
    "    mpl_table.set_fontsize(14)"
   ]
  },
  {
   "cell_type": "markdown",
   "id": "f9be334c",
   "metadata": {},
   "source": [
    "<p><b>4.1 Yearly - 2022, 2021, 2020...</p></b>"
   ]
  },
  {
   "cell_type": "code",
   "execution_count": null,
   "id": "2f4d2df3",
   "metadata": {},
   "outputs": [],
   "source": [
    "yearly = df.groupby(df['time_entry'].dt.year)['profit'].agg(['sum', 'count'])\n",
    "yearly_avg = df.groupby(df['time_entry'].dt.year)['profit'].agg(['mean', 'count'])\n",
    "yearly_perc = df.groupby(df['time_entry'].dt.year)['is_profit'].agg(['sum', 'count'])\n",
    "\n",
    "table_plot(yearly, 'Profit over year', 'Year')\n",
    "table_plot(yearly_avg, 'Avg Profit over year', 'Year')\n",
    "table_plot(yearly_perc, '% profitable', 'Year')"
   ]
  },
  {
   "cell_type": "markdown",
   "id": "30fd3fb8",
   "metadata": {},
   "source": [
    "<p><b>4.2 Monthly - Jan, Feb, Mar...</b></p>\n",
    "<p>* Shows point gain each month grouped (all Januaries, all Feb... combined)</p>"
   ]
  },
  {
   "cell_type": "code",
   "execution_count": null,
   "id": "dfba5cab",
   "metadata": {},
   "outputs": [],
   "source": [
    "monthly = df.groupby(df['time_entry'].dt.month)['profit'].agg(['sum', 'count'])\n",
    "monthly_avg = df.groupby(df['time_entry'].dt.month)['profit'].agg(['mean', 'count'])\n",
    "monthly_perc = df.groupby(df['time_entry'].dt.month)['is_profit'].agg(['sum', 'count'])\n",
    "\n",
    "table_plot(monthly, 'Profit per month', 'Month')\n",
    "table_plot(monthly_avg, 'Avg Profit per month', 'Month')\n",
    "table_plot(monthly_perc, '% profitable', 'Month')"
   ]
  },
  {
   "cell_type": "markdown",
   "id": "3e484274",
   "metadata": {},
   "source": [
    "<p><b>4.3 Weekly - Mon, Tue, Wed...<br /></b></p>\n",
    "<p>Weekends were removed from graphs</p>"
   ]
  },
  {
   "cell_type": "code",
   "execution_count": null,
   "id": "4054686e",
   "metadata": {},
   "outputs": [],
   "source": [
    "days = {0: 'Monday', 1: 'Tuesday', 2: 'Wednesday', 3: 'Thursday', 4: 'Friday', 5: 'Saturday', 6: 'Sunday'}\n",
    "weekly = df.groupby(df['time_entry'].dt.dayofweek)['profit'].agg(['sum', 'count'])\n",
    "weekly_avg = df.groupby(df['time_entry'].dt.dayofweek)['profit'].agg(['mean', 'count'])\n",
    "weekly_perc = df.groupby(df['time_entry'].dt.dayofweek)['is_profit'].agg(['sum', 'count'])\n",
    "\n",
    "table_plot(weekly, 'Profit over week', 'Day of week', [0.1, 0, 1, 1], ['Saturday', 'Sunday'], days)\n",
    "table_plot(weekly_avg, 'Avg profit over week', 'Day of week', [0.1, 0, 1, 1], ['Saturday', 'Sunday'], days)\n",
    "table_plot(weekly_perc, '% profitable', 'Day of week', [0.1, 0, 1, 1], ['Saturday', 'Sunday'], days)"
   ]
  },
  {
   "cell_type": "markdown",
   "id": "596c2f17",
   "metadata": {},
   "source": [
    "<p><b>4.4 Daily - 1., 5., 22. ...</b></p>"
   ]
  },
  {
   "cell_type": "code",
   "execution_count": null,
   "id": "574566d2",
   "metadata": {},
   "outputs": [],
   "source": [
    "daily = df.groupby(df['time_entry'].dt.day)['profit'].agg(['sum', 'count'])\n",
    "daily_avg = df.groupby(df['time_entry'].dt.day)['profit'].agg(['mean', 'count'])\n",
    "daily_perc = df.groupby(df['time_entry'].dt.day)['is_profit'].agg(['sum', 'count'])\n",
    "\n",
    "table_plot(daily, 'Profit per day', 'Day')\n",
    "table_plot(daily_avg, 'Avg Profit per day', 'Day')\n",
    "table_plot(daily_perc, '% profitable', 'Day')"
   ]
  },
  {
   "cell_type": "markdown",
   "id": "bf104d6f",
   "metadata": {},
   "source": [
    "<p><b>4.5 Hourly - 9am, 10am, 3pm...</b></p>\n",
    "<p>* outside RTH hours were removed from graph</p>\n",
    "<p>* shows at what hours entering the trade was the most profitable</p>\n",
    "<p>* 10 means range 10:00 - 10:59</p>"
   ]
  },
  {
   "cell_type": "code",
   "execution_count": null,
   "id": "b80321d1",
   "metadata": {},
   "outputs": [],
   "source": [
    "hourly = df.groupby(df['time_entry'].dt.hour)['profit'].agg(['sum', 'count'])\n",
    "hourly_avg = df.groupby(df['time_entry'].dt.hour)['profit'].agg(['mean', 'count'])\n",
    "hourly_perc = df.groupby(df['time_entry'].dt.hour)['is_profit'].agg(['sum', 'count'])\n",
    "\n",
    "table_plot(hourly, 'Profit per hour', 'Hour', drop=[0, 1, 2, 3, 4, 5, 6, 7, 8, 16, 18, 19, 21, 22, 23])\n",
    "table_plot(hourly_avg, 'Avg Profit per hour', 'Hour', drop=[0, 1, 2, 3, 4, 5, 6, 7, 8, 16, 18, 19, 21, 22, 23])\n",
    "table_plot(hourly_perc, '% profitable', 'Hour', drop=[0, 1, 2, 3, 4, 5, 6, 7, 8, 16, 18, 19, 21, 22, 23])"
   ]
  },
  {
   "cell_type": "code",
   "execution_count": null,
   "id": "9fc60789",
   "metadata": {},
   "outputs": [],
   "source": []
  }
 ],
 "metadata": {
  "kernelspec": {
   "display_name": "Python 3 (ipykernel)",
   "language": "python",
   "name": "python3"
  },
  "language_info": {
   "codemirror_mode": {
    "name": "ipython",
    "version": 3
   },
   "file_extension": ".py",
   "mimetype": "text/x-python",
   "name": "python",
   "nbconvert_exporter": "python",
   "pygments_lexer": "ipython3",
   "version": "3.9.7"
  }
 },
 "nbformat": 4,
 "nbformat_minor": 5
}
